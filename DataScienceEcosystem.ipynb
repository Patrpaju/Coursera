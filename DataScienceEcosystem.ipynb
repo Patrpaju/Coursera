{
 "cells": [
  {
   "cell_type": "markdown",
   "id": "8ba73db9-ffd8-4ccb-a9b8-28623ffe6c70",
   "metadata": {},
   "source": [
    "# Data Science Tools and Ecosystem"
   ]
  },
  {
   "cell_type": "markdown",
   "id": "721dbe82-33d3-498b-88a3-be6c5009ac5b",
   "metadata": {},
   "source": [
    "In this notebook, Data Science Tools and Ecosystem are summarized."
   ]
  },
  {
   "cell_type": "markdown",
   "id": "ef37204a-8829-458a-be81-ef602e33ed77",
   "metadata": {},
   "source": [
    "**Objectives:**\n",
    "* List popular languages Data Scientists use\n",
    "* List common libraries Data Scientists use\n",
    "* List Data Science Tools\n",
    "* Showcase some arithmetic functions\n"
   ]
  },
  {
   "cell_type": "markdown",
   "id": "5c30d685-8a6c-4d24-b9ab-545ca6c4b9b9",
   "metadata": {},
   "source": [
    "Some of the popular languages that Data Scientists use are:\n",
    "1. Python\n",
    "2. R\n",
    "3. Julia\n",
    "4. SQL\n",
    "5. Scala"
   ]
  },
  {
   "cell_type": "markdown",
   "id": "531d3a18-4ba6-4060-9d2e-7a75bb3d13dc",
   "metadata": {},
   "source": [
    "Some of the commonly used libraries used by Data Scientists include:\n",
    "1. Pandas\n",
    "2. Numpy\n",
    "3. Matplotlib\n",
    "4. plotly\n",
    "5. ggplot2\n"
   ]
  },
  {
   "cell_type": "markdown",
   "id": "671ecb86-d513-4a25-83fd-64dd5d14a6be",
   "metadata": {},
   "source": [
    "| Data Science Tools      |\n",
    "|------------------------:|\n",
    "| Jupyter Notebook        |\n",
    "| VS Code                 |\n",
    "| RStudio                 |"
   ]
  },
  {
   "cell_type": "code",
   "execution_count": 19,
   "id": "ca4daf22-ba55-49f9-ab24-551544db09b5",
   "metadata": {},
   "outputs": [
    {
     "data": {
      "text/html": [
       "<style>\n",
       "    table {float:left}\n",
       "</style>\n"
      ],
      "text/plain": [
       "<IPython.core.display.HTML object>"
      ]
     },
     "metadata": {},
     "output_type": "display_data"
    }
   ],
   "source": [
    "%%html\n",
    "<style>\n",
    "    table {float:left}\n",
    "</style>"
   ]
  },
  {
   "cell_type": "markdown",
   "id": "c625f062-be22-42bd-8bf2-3aac9f99c01c",
   "metadata": {},
   "source": [
    "### Below are a few examples of evaluating aritmetic expressions in Python"
   ]
  },
  {
   "cell_type": "code",
   "execution_count": 23,
   "id": "e069b352-b53c-4786-925d-9a45db73f97f",
   "metadata": {},
   "outputs": [
    {
     "data": {
      "text/plain": [
       "17"
      ]
     },
     "execution_count": 23,
     "metadata": {},
     "output_type": "execute_result"
    }
   ],
   "source": [
    "# This is a simple arithmetic expression to multiply then add integers\n",
    "(3*4)+5"
   ]
  },
  {
   "cell_type": "code",
   "execution_count": 27,
   "id": "27ba6e67-8ec6-4de8-a560-789a8c368f21",
   "metadata": {},
   "outputs": [
    {
     "data": {
      "text/plain": [
       "3.33"
      ]
     },
     "execution_count": 27,
     "metadata": {},
     "output_type": "execute_result"
    }
   ],
   "source": [
    "# This will convert 200 minutes to hours by diving by 60\n",
    "\n",
    "round(200/60, 2)"
   ]
  },
  {
   "cell_type": "code",
   "execution_count": null,
   "id": "e3fe57d1-9fa7-4801-9340-2f4126d095fa",
   "metadata": {},
   "outputs": [],
   "source": [
    "# The result is 3 hours and 2 minutes"
   ]
  },
  {
   "cell_type": "markdown",
   "id": "a077609d-f971-44b3-9903-d1fd4955d5ec",
   "metadata": {},
   "source": [
    "## Author\n",
    "Patrick Pajula"
   ]
  },
  {
   "cell_type": "code",
   "execution_count": null,
   "id": "80d9922a-4c14-4885-a7e1-7580ea7d9b69",
   "metadata": {},
   "outputs": [],
   "source": []
  }
 ],
 "metadata": {
  "kernelspec": {
   "display_name": "Python 3 (ipykernel)",
   "language": "python",
   "name": "python3"
  },
  "language_info": {
   "codemirror_mode": {
    "name": "ipython",
    "version": 3
   },
   "file_extension": ".py",
   "mimetype": "text/x-python",
   "name": "python",
   "nbconvert_exporter": "python",
   "pygments_lexer": "ipython3",
   "version": "3.12.7"
  }
 },
 "nbformat": 4,
 "nbformat_minor": 5
}
